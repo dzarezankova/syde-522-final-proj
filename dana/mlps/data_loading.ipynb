{
 "cells": [
  {
   "cell_type": "code",
   "execution_count": 2,
   "id": "initial_id",
   "metadata": {
    "collapsed": true,
    "ExecuteTime": {
     "end_time": "2023-12-19T19:30:53.063904Z",
     "start_time": "2023-12-19T19:30:15.603858Z"
    }
   },
   "outputs": [
    {
     "name": "stdout",
     "output_type": "stream",
     "text": [
      "Collecting fastf1\r\n",
      "  Downloading fastf1-3.1.6-py3-none-any.whl.metadata (2.4 kB)\r\n",
      "Collecting requests-cache>=0.8.0 (from fastf1)\r\n",
      "  Downloading requests_cache-1.1.1-py3-none-any.whl.metadata (9.9 kB)\r\n",
      "Requirement already satisfied: pandas<2.1.0,>=1.2.4 in /Users/danazarezankova/anaconda3/lib/python3.8/site-packages (from fastf1) (2.0.3)\r\n",
      "Requirement already satisfied: numpy<2.0.0,>=1.20.3 in /Users/danazarezankova/anaconda3/lib/python3.8/site-packages (from fastf1) (1.24.4)\r\n",
      "Requirement already satisfied: scipy<2.0.0,>=1.6.3 in /Users/danazarezankova/anaconda3/lib/python3.8/site-packages (from fastf1) (1.10.1)\r\n",
      "Collecting thefuzz (from fastf1)\r\n",
      "  Downloading thefuzz-0.20.0-py3-none-any.whl.metadata (3.9 kB)\r\n",
      "Collecting matplotlib<4.0.0,>=3.4.2 (from fastf1)\r\n",
      "  Downloading matplotlib-3.7.4-cp38-cp38-macosx_10_12_x86_64.whl.metadata (5.7 kB)\r\n",
      "Requirement already satisfied: python-dateutil in /Users/danazarezankova/anaconda3/lib/python3.8/site-packages (from fastf1) (2.8.2)\r\n",
      "Collecting timple>=0.1.6 (from fastf1)\r\n",
      "  Downloading timple-0.1.7-py3-none-any.whl.metadata (2.0 kB)\r\n",
      "Collecting requests>=2.28.0 (from fastf1)\r\n",
      "  Downloading requests-2.31.0-py3-none-any.whl.metadata (4.6 kB)\r\n",
      "Collecting websockets>=8.1 (from fastf1)\r\n",
      "  Downloading websockets-12.0-cp38-cp38-macosx_10_9_x86_64.whl.metadata (6.6 kB)\r\n",
      "Collecting contourpy>=1.0.1 (from matplotlib<4.0.0,>=3.4.2->fastf1)\r\n",
      "  Downloading contourpy-1.1.1-cp38-cp38-macosx_10_9_x86_64.whl.metadata (5.9 kB)\r\n",
      "Requirement already satisfied: cycler>=0.10 in /Users/danazarezankova/anaconda3/lib/python3.8/site-packages (from matplotlib<4.0.0,>=3.4.2->fastf1) (0.10.0)\r\n",
      "Collecting fonttools>=4.22.0 (from matplotlib<4.0.0,>=3.4.2->fastf1)\r\n",
      "  Downloading fonttools-4.47.0-cp38-cp38-macosx_10_9_x86_64.whl.metadata (157 kB)\r\n",
      "\u001B[2K     \u001B[90m━━━━━━━━━━━━━━━━━━━━━━━━━━━━━━━━━━━━━━━\u001B[0m \u001B[32m157.2/157.2 kB\u001B[0m \u001B[31m2.2 MB/s\u001B[0m eta \u001B[36m0:00:00\u001B[0m00:01\u001B[0m\r\n",
      "\u001B[?25hRequirement already satisfied: kiwisolver>=1.0.1 in /Users/danazarezankova/anaconda3/lib/python3.8/site-packages (from matplotlib<4.0.0,>=3.4.2->fastf1) (1.3.0)\r\n",
      "Requirement already satisfied: packaging>=20.0 in /Users/danazarezankova/anaconda3/lib/python3.8/site-packages (from matplotlib<4.0.0,>=3.4.2->fastf1) (23.2)\r\n",
      "Requirement already satisfied: pillow>=6.2.0 in /Users/danazarezankova/anaconda3/lib/python3.8/site-packages (from matplotlib<4.0.0,>=3.4.2->fastf1) (8.0.1)\r\n",
      "Requirement already satisfied: pyparsing>=2.3.1 in /Users/danazarezankova/anaconda3/lib/python3.8/site-packages (from matplotlib<4.0.0,>=3.4.2->fastf1) (2.4.7)\r\n",
      "Requirement already satisfied: importlib-resources>=3.2.0 in /Users/danazarezankova/anaconda3/lib/python3.8/site-packages (from matplotlib<4.0.0,>=3.4.2->fastf1) (6.1.0)\r\n",
      "Requirement already satisfied: pytz>=2020.1 in /Users/danazarezankova/anaconda3/lib/python3.8/site-packages (from pandas<2.1.0,>=1.2.4->fastf1) (2020.1)\r\n",
      "Requirement already satisfied: tzdata>=2022.1 in /Users/danazarezankova/anaconda3/lib/python3.8/site-packages (from pandas<2.1.0,>=1.2.4->fastf1) (2023.3)\r\n",
      "Requirement already satisfied: six>=1.5 in /Users/danazarezankova/anaconda3/lib/python3.8/site-packages (from python-dateutil->fastf1) (1.15.0)\r\n",
      "Requirement already satisfied: charset-normalizer<4,>=2 in /Users/danazarezankova/anaconda3/lib/python3.8/site-packages (from requests>=2.28.0->fastf1) (3.2.0)\r\n",
      "Requirement already satisfied: idna<4,>=2.5 in /Users/danazarezankova/anaconda3/lib/python3.8/site-packages (from requests>=2.28.0->fastf1) (2.10)\r\n",
      "Requirement already satisfied: urllib3<3,>=1.21.1 in /Users/danazarezankova/anaconda3/lib/python3.8/site-packages (from requests>=2.28.0->fastf1) (1.25.11)\r\n",
      "Requirement already satisfied: certifi>=2017.4.17 in /Users/danazarezankova/anaconda3/lib/python3.8/site-packages (from requests>=2.28.0->fastf1) (2020.6.20)\r\n",
      "Collecting attrs>=21.2 (from requests-cache>=0.8.0->fastf1)\r\n",
      "  Downloading attrs-23.1.0-py3-none-any.whl (61 kB)\r\n",
      "\u001B[2K     \u001B[90m━━━━━━━━━━━━━━━━━━━━━━━━━━━━━━━━━━━━━━━\u001B[0m \u001B[32m61.2/61.2 kB\u001B[0m \u001B[31m542.1 kB/s\u001B[0m eta \u001B[36m0:00:00\u001B[0ma \u001B[36m0:00:01\u001B[0m\r\n",
      "\u001B[?25hCollecting cattrs>=22.2 (from requests-cache>=0.8.0->fastf1)\r\n",
      "  Downloading cattrs-23.2.3-py3-none-any.whl.metadata (10 kB)\r\n",
      "Requirement already satisfied: platformdirs>=2.5 in /Users/danazarezankova/anaconda3/lib/python3.8/site-packages (from requests-cache>=0.8.0->fastf1) (4.0.0)\r\n",
      "Collecting url-normalize>=1.4 (from requests-cache>=0.8.0->fastf1)\r\n",
      "  Downloading url_normalize-1.4.3-py2.py3-none-any.whl (6.8 kB)\r\n",
      "Collecting rapidfuzz<4.0.0,>=3.0.0 (from thefuzz->fastf1)\r\n",
      "  Downloading rapidfuzz-3.5.2-cp38-cp38-macosx_10_9_x86_64.whl.metadata (11 kB)\r\n",
      "Collecting exceptiongroup>=1.1.1 (from cattrs>=22.2->requests-cache>=0.8.0->fastf1)\r\n",
      "  Downloading exceptiongroup-1.2.0-py3-none-any.whl.metadata (6.6 kB)\r\n",
      "Requirement already satisfied: typing-extensions!=4.6.3,>=4.1.0 in /Users/danazarezankova/anaconda3/lib/python3.8/site-packages (from cattrs>=22.2->requests-cache>=0.8.0->fastf1) (4.5.0)\r\n",
      "Requirement already satisfied: zipp>=3.1.0 in /Users/danazarezankova/anaconda3/lib/python3.8/site-packages (from importlib-resources>=3.2.0->matplotlib<4.0.0,>=3.4.2->fastf1) (3.4.0)\r\n",
      "Downloading fastf1-3.1.6-py3-none-any.whl (122 kB)\r\n",
      "\u001B[2K   \u001B[90m━━━━━━━━━━━━━━━━━━━━━━━━━━━━━━━━━━━━━━━━\u001B[0m \u001B[32m122.6/122.6 kB\u001B[0m \u001B[31m2.0 MB/s\u001B[0m eta \u001B[36m0:00:00\u001B[0ma \u001B[36m0:00:01\u001B[0m\r\n",
      "\u001B[?25hDownloading matplotlib-3.7.4-cp38-cp38-macosx_10_12_x86_64.whl (7.4 MB)\r\n",
      "\u001B[2K   \u001B[90m━━━━━━━━━━━━━━━━━━━━━━━━━━━━━━━━━━━━━━━━\u001B[0m \u001B[32m7.4/7.4 MB\u001B[0m \u001B[31m3.9 MB/s\u001B[0m eta \u001B[36m0:00:00\u001B[0m00:01\u001B[0m00:01\u001B[0m\r\n",
      "\u001B[?25hDownloading requests-2.31.0-py3-none-any.whl (62 kB)\r\n",
      "\u001B[2K   \u001B[90m━━━━━━━━━━━━━━━━━━━━━━━━━━━━━━━━━━━━━━━━\u001B[0m \u001B[32m62.6/62.6 kB\u001B[0m \u001B[31m819.1 kB/s\u001B[0m eta \u001B[36m0:00:00\u001B[0m:01\u001B[0m\r\n",
      "\u001B[?25hDownloading requests_cache-1.1.1-py3-none-any.whl (60 kB)\r\n",
      "\u001B[2K   \u001B[90m━━━━━━━━━━━━━━━━━━━━━━━━━━━━━━━━━━━━━━━━\u001B[0m \u001B[32m60.3/60.3 kB\u001B[0m \u001B[31m1.6 MB/s\u001B[0m eta \u001B[36m0:00:00\u001B[0m\r\n",
      "\u001B[?25hDownloading timple-0.1.7-py3-none-any.whl (17 kB)\r\n",
      "Downloading websockets-12.0-cp38-cp38-macosx_10_9_x86_64.whl (121 kB)\r\n",
      "\u001B[2K   \u001B[90m━━━━━━━━━━━━━━━━━━━━━━━━━━━━━━━━━━━━━━━━\u001B[0m \u001B[32m121.3/121.3 kB\u001B[0m \u001B[31m2.2 MB/s\u001B[0m eta \u001B[36m0:00:00\u001B[0m \u001B[36m0:00:01\u001B[0m\r\n",
      "\u001B[?25hDownloading thefuzz-0.20.0-py3-none-any.whl (15 kB)\r\n",
      "Downloading cattrs-23.2.3-py3-none-any.whl (57 kB)\r\n",
      "\u001B[2K   \u001B[90m━━━━━━━━━━━━━━━━━━━━━━━━━━━━━━━━━━━━━━━━\u001B[0m \u001B[32m57.5/57.5 kB\u001B[0m \u001B[31m1.6 MB/s\u001B[0m eta \u001B[36m0:00:00\u001B[0m\r\n",
      "\u001B[?25hDownloading contourpy-1.1.1-cp38-cp38-macosx_10_9_x86_64.whl (247 kB)\r\n",
      "\u001B[2K   \u001B[90m━━━━━━━━━━━━━━━━━━━━━━━━━━━━━━━━━━━━━━━━\u001B[0m \u001B[32m247.0/247.0 kB\u001B[0m \u001B[31m3.2 MB/s\u001B[0m eta \u001B[36m0:00:00\u001B[0ma \u001B[36m0:00:01\u001B[0m\r\n",
      "\u001B[?25hDownloading fonttools-4.47.0-cp38-cp38-macosx_10_9_x86_64.whl (2.3 MB)\r\n",
      "\u001B[2K   \u001B[90m━━━━━━━━━━━━━━━━━━━━━━━━━━━━━━━━━━━━━━━━\u001B[0m \u001B[32m2.3/2.3 MB\u001B[0m \u001B[31m3.8 MB/s\u001B[0m eta \u001B[36m0:00:00\u001B[0m00:01\u001B[0m00:01\u001B[0m\r\n",
      "\u001B[?25hDownloading rapidfuzz-3.5.2-cp38-cp38-macosx_10_9_x86_64.whl (2.6 MB)\r\n",
      "\u001B[2K   \u001B[90m━━━━━━━━━━━━━━━━━━━━━━━━━━━━━━━━━━━━━━━━\u001B[0m \u001B[32m2.6/2.6 MB\u001B[0m \u001B[31m4.5 MB/s\u001B[0m eta \u001B[36m0:00:00\u001B[0m00:01\u001B[0m00:01\u001B[0m\r\n",
      "\u001B[?25hDownloading exceptiongroup-1.2.0-py3-none-any.whl (16 kB)\r\n",
      "Installing collected packages: websockets, url-normalize, requests, rapidfuzz, fonttools, exceptiongroup, contourpy, attrs, thefuzz, matplotlib, cattrs, timple, requests-cache, fastf1\r\n",
      "  Attempting uninstall: requests\r\n",
      "    Found existing installation: requests 2.24.0\r\n",
      "    Uninstalling requests-2.24.0:\r\n",
      "      Successfully uninstalled requests-2.24.0\r\n",
      "  Attempting uninstall: attrs\r\n",
      "    Found existing installation: attrs 20.3.0\r\n",
      "    Uninstalling attrs-20.3.0:\r\n",
      "      Successfully uninstalled attrs-20.3.0\r\n",
      "  Attempting uninstall: matplotlib\r\n",
      "    Found existing installation: matplotlib 3.3.2\r\n",
      "    Uninstalling matplotlib-3.3.2:\r\n",
      "      Successfully uninstalled matplotlib-3.3.2\r\n",
      "\u001B[31mERROR: pip's dependency resolver does not currently take into account all the packages that are installed. This behaviour is the source of the following dependency conflicts.\r\n",
      "pytest 0.0.0 requires pluggy<1.0,>=0.12, but you have pluggy 1.3.0 which is incompatible.\r\n",
      "tensorflow 2.13.1 requires numpy<=1.24.3,>=1.22, but you have numpy 1.24.4 which is incompatible.\u001B[0m\u001B[31m\r\n",
      "\u001B[0mSuccessfully installed attrs-23.1.0 cattrs-23.2.3 contourpy-1.1.1 exceptiongroup-1.2.0 fastf1-3.1.6 fonttools-4.47.0 matplotlib-3.7.4 rapidfuzz-3.5.2 requests-2.31.0 requests-cache-1.1.1 thefuzz-0.20.0 timple-0.1.7 url-normalize-1.4.3 websockets-12.0\r\n",
      "\r\n",
      "\u001B[1m[\u001B[0m\u001B[34;49mnotice\u001B[0m\u001B[1;39;49m]\u001B[0m\u001B[39;49m A new release of pip is available: \u001B[0m\u001B[31;49m23.3.1\u001B[0m\u001B[39;49m -> \u001B[0m\u001B[32;49m23.3.2\u001B[0m\r\n",
      "\u001B[1m[\u001B[0m\u001B[34;49mnotice\u001B[0m\u001B[1;39;49m]\u001B[0m\u001B[39;49m To update, run: \u001B[0m\u001B[32;49mpip install --upgrade pip\u001B[0m\r\n",
      "Note: you may need to restart the kernel to use updated packages.\n"
     ]
    }
   ],
   "source": [
    "%pip install fastf1"
   ]
  },
  {
   "cell_type": "code",
   "execution_count": 3,
   "outputs": [],
   "source": [
    "import pandas as pd\n",
    "import fastf1"
   ],
   "metadata": {
    "collapsed": false,
    "ExecuteTime": {
     "end_time": "2023-12-19T19:30:55.213592Z",
     "start_time": "2023-12-19T19:30:53.071472Z"
    }
   },
   "id": "450bba9490f19f05"
  },
  {
   "cell_type": "code",
   "execution_count": null,
   "outputs": [],
   "source": [],
   "metadata": {
    "collapsed": false
   },
   "id": "785b22c4619c244"
  },
  {
   "cell_type": "code",
   "execution_count": 13,
   "outputs": [
    {
     "name": "stderr",
     "output_type": "stream",
     "text": [
      "core           INFO \tLoading data for Monaco Grand Prix - Race [v3.1.6]\n",
      "req            INFO \tNo cached data found for session_info. Loading data...\n",
      "_api           INFO \tFetching session info data...\n",
      "req            INFO \tData has been written to cache!\n",
      "req            INFO \tNo cached data found for driver_info. Loading data...\n",
      "_api           INFO \tFetching driver list...\n",
      "req            INFO \tData has been written to cache!\n",
      "req            INFO \tNo cached data found for session_status_data. Loading data...\n",
      "_api           INFO \tFetching session status data...\n",
      "req            INFO \tData has been written to cache!\n",
      "req            INFO \tNo cached data found for lap_count. Loading data...\n",
      "_api           INFO \tFetching lap count data...\n",
      "req            INFO \tData has been written to cache!\n",
      "req            INFO \tNo cached data found for track_status_data. Loading data...\n",
      "_api           INFO \tFetching track status data...\n",
      "req            INFO \tData has been written to cache!\n",
      "req            INFO \tNo cached data found for _extended_timing_data. Loading data...\n",
      "_api           INFO \tFetching timing data...\n",
      "_api           INFO \tParsing timing data...\n",
      "req            INFO \tData has been written to cache!\n",
      "req            INFO \tNo cached data found for timing_app_data. Loading data...\n",
      "_api           INFO \tFetching timing app data...\n",
      "req            INFO \tData has been written to cache!\n",
      "core           INFO \tProcessing timing data...\n",
      "req            INFO \tNo cached data found for car_data. Loading data...\n",
      "_api           INFO \tFetching car data...\n",
      "_api           INFO \tParsing car data...\n",
      "req            INFO \tData has been written to cache!\n",
      "req            INFO \tNo cached data found for position_data. Loading data...\n",
      "_api           INFO \tFetching position data...\n",
      "_api           INFO \tParsing position data...\n",
      "req            INFO \tData has been written to cache!\n",
      "req            INFO \tNo cached data found for weather_data. Loading data...\n",
      "_api           INFO \tFetching weather data...\n",
      "req            INFO \tData has been written to cache!\n",
      "req            INFO \tNo cached data found for race_control_messages. Loading data...\n",
      "_api           INFO \tFetching race control messages...\n",
      "req            INFO \tData has been written to cache!\n",
      "core           INFO \tFinished loading data for 20 drivers: ['33', '55', '4', '11', '5', '10', '44', '18', '31', '99', '7', '3', '14', '63', '6', '22', '9', '47', '77', '16']\n"
     ]
    }
   ],
   "source": [
    "session = fastf1.get_session(2021, 'Monaco', 'R')\n",
    "session.load()\n",
    "laps = session.laps"
   ],
   "metadata": {
    "collapsed": false,
    "ExecuteTime": {
     "end_time": "2023-12-19T20:02:07.904837Z",
     "start_time": "2023-12-19T20:01:05.403949Z"
    }
   },
   "id": "58f2c2d64416b9e2"
  },
  {
   "cell_type": "code",
   "execution_count": 16,
   "outputs": [],
   "source": [
    "master_data = pd.DataFrame()"
   ],
   "metadata": {
    "collapsed": false,
    "ExecuteTime": {
     "end_time": "2023-12-19T20:03:07.986671Z",
     "start_time": "2023-12-19T20:03:07.958635Z"
    }
   },
   "id": "fe33305518fb7720"
  },
  {
   "cell_type": "code",
   "execution_count": 17,
   "outputs": [],
   "source": [
    "gps = ['Monaco', 'Bahrain', 'Portugal', 'Spain', 'Monaco', 'Azerbaijan', 'France', 'Austria', 'Great Britain', 'Hungary', 'Belgium', 'Netherlands', 'Italy', 'Russia', 'Turkey', 'Japan', 'USA', 'Mexico', 'Brazil', 'Australia', 'Saudi Arabia', 'Abu Dhabi']"
   ],
   "metadata": {
    "collapsed": false,
    "ExecuteTime": {
     "end_time": "2023-12-19T20:20:50.335915Z",
     "start_time": "2023-12-19T20:20:50.317691Z"
    }
   },
   "id": "dc013783a78d89da"
  },
  {
   "cell_type": "code",
   "execution_count": 18,
   "outputs": [],
   "source": [
    "years = [2019, 2021, 2022, 2023]"
   ],
   "metadata": {
    "collapsed": false,
    "ExecuteTime": {
     "end_time": "2023-12-19T20:21:24.538444Z",
     "start_time": "2023-12-19T20:21:24.062283Z"
    }
   },
   "id": "29af46c8f39532f"
  },
  {
   "cell_type": "code",
   "execution_count": 27,
   "outputs": [],
   "source": [
    "label_encode = lambda x: {v: i for i, v in enumerate(set(x))}"
   ],
   "metadata": {
    "collapsed": false,
    "ExecuteTime": {
     "end_time": "2023-12-19T20:34:33.318343Z",
     "start_time": "2023-12-19T20:34:33.259172Z"
    }
   },
   "id": "5a19f6ec1c5a6d1"
  },
  {
   "cell_type": "code",
   "execution_count": null,
   "outputs": [],
   "source": [
    "for year in years:\n",
    "    for i in gps:\n",
    "        session = fastf1.get_session(year, i, 'R')\n",
    "        session.load()\n",
    "        laps = session.laps\n",
    "        laps = laps[laps['IsAccurate'] == True]\n",
    "        laps = laps[laps['Deleted'] == False]\n",
    "        laps['Year'] = year\n",
    "        laps['GP'] = i\n",
    "        weather = session.weather_data\n",
    "        laps['Temp'] = weather['AirTemp'].mean()\n",
    "        laps['Humidity'] = weather['Humidity'].mean()\n",
    "        laps['Pressure'] = weather['Pressure'].mean()\n",
    "        laps['WindSpeed'] = weather['WindSpeed'].mean()\n",
    "        laps['TrackTemp'] = weather['TrackTemp'].mean()\n",
    "        \n",
    "        # Encode the driver names\n",
    "        laps['Driver'] = laps['DriverNumber']\n",
    "        laps['Team'] = laps['Team'].map(label_encode(laps['Team']))\n",
    "        laps['Compound'] = laps['Compound'].map(label_encode(laps['Compound']))\n",
    "        laps['Team'] = laps['Team'].map(label_encode(laps['Team']))\n",
    "        \n",
    "        # Convert times\n",
    "        laps['LapTime'] = laps['LapTime'].microseconds\n",
    "        \n",
    "        master_data = master_data.append(laps)"
   ],
   "metadata": {
    "collapsed": false
   },
   "id": "9fa30f6e108b515e"
  },
  {
   "cell_type": "code",
   "execution_count": 22,
   "outputs": [
    {
     "name": "stderr",
     "output_type": "stream",
     "text": [
      "core           INFO \tLoading data for Monaco Grand Prix - Race [v3.1.6]\n",
      "req            INFO \tUsing cached data for session_info\n",
      "req            INFO \tUsing cached data for driver_info\n",
      "req            INFO \tUsing cached data for session_status_data\n",
      "req            INFO \tUsing cached data for lap_count\n",
      "req            INFO \tUsing cached data for track_status_data\n",
      "req            INFO \tUsing cached data for _extended_timing_data\n",
      "req            INFO \tUsing cached data for timing_app_data\n",
      "core           INFO \tProcessing timing data...\n",
      "req            INFO \tUsing cached data for car_data\n",
      "req            INFO \tUsing cached data for position_data\n",
      "req            INFO \tUsing cached data for weather_data\n",
      "req            INFO \tUsing cached data for race_control_messages\n",
      "core           INFO \tFinished loading data for 20 drivers: ['33', '55', '4', '11', '5', '10', '44', '18', '31', '99', '7', '3', '14', '63', '6', '22', '9', '47', '77', '16']\n",
      "/var/folders/6x/gk19r4tx5hgb11grk4n8hswm0000gn/T/ipykernel_82788/3349749086.py:6: SettingWithCopyWarning: \n",
      "A value is trying to be set on a copy of a slice from a DataFrame.\n",
      "Try using .loc[row_indexer,col_indexer] = value instead\n",
      "\n",
      "See the caveats in the documentation: https://pandas.pydata.org/pandas-docs/stable/user_guide/indexing.html#returning-a-view-versus-a-copy\n",
      "  laps['Year'] = 2021\n"
     ]
    },
    {
     "data": {
      "text/plain": "                       Time Driver DriverNumber                LapTime  \\\n1    0 days 00:35:34.295000    VER           33 0 days 00:01:17.480000   \n2    0 days 00:36:51.593000    VER           33 0 days 00:01:17.298000   \n3    0 days 00:38:08.830000    VER           33 0 days 00:01:17.237000   \n4    0 days 00:39:25.722000    VER           33 0 days 00:01:16.892000   \n5    0 days 00:40:42.869000    VER           33 0 days 00:01:17.147000   \n...                     ...    ...          ...                    ...   \n1413 0 days 01:04:56.593000    BOT           77 0 days 00:01:16.543000   \n1414 0 days 01:06:13.280000    BOT           77 0 days 00:01:16.687000   \n1415 0 days 01:07:29.527000    BOT           77 0 days 00:01:16.247000   \n1416 0 days 01:08:45.561000    BOT           77 0 days 00:01:16.034000   \n1417 0 days 01:10:01.826000    BOT           77 0 days 00:01:16.265000   \n\n      LapNumber  Stint PitOutTime PitInTime            Sector1Time  \\\n1           2.0    1.0        NaT       NaT 0 days 00:00:20.615000   \n2           3.0    1.0        NaT       NaT 0 days 00:00:20.460000   \n3           4.0    1.0        NaT       NaT 0 days 00:00:20.609000   \n4           5.0    1.0        NaT       NaT 0 days 00:00:20.444000   \n5           6.0    1.0        NaT       NaT 0 days 00:00:20.460000   \n...         ...    ...        ...       ...                    ...   \n1413       25.0    1.0        NaT       NaT 0 days 00:00:20.215000   \n1414       26.0    1.0        NaT       NaT 0 days 00:00:20.005000   \n1415       27.0    1.0        NaT       NaT 0 days 00:00:20.005000   \n1416       28.0    1.0        NaT       NaT 0 days 00:00:20.020000   \n1417       29.0    1.0        NaT       NaT 0 days 00:00:20.001000   \n\n                Sector2Time  ...             Team           LapStartTime  \\\n1    0 days 00:00:36.346000  ...  Red Bull Racing 0 days 00:34:16.815000   \n2    0 days 00:00:36.305000  ...  Red Bull Racing 0 days 00:35:34.295000   \n3    0 days 00:00:36.124000  ...  Red Bull Racing 0 days 00:36:51.593000   \n4    0 days 00:00:36.046000  ...  Red Bull Racing 0 days 00:38:08.830000   \n5    0 days 00:00:36.213000  ...  Red Bull Racing 0 days 00:39:25.722000   \n...                     ...  ...              ...                    ...   \n1413 0 days 00:00:35.816000  ...         Mercedes 0 days 01:03:40.050000   \n1414 0 days 00:00:35.937000  ...         Mercedes 0 days 01:04:56.593000   \n1415 0 days 00:00:35.681000  ...         Mercedes 0 days 01:06:13.280000   \n1416 0 days 00:00:35.544000  ...         Mercedes 0 days 01:07:29.527000   \n1417 0 days 00:00:35.782000  ...         Mercedes 0 days 01:08:45.561000   \n\n                LapStartDate TrackStatus  Position  Deleted  DeletedReason  \\\n1    2021-05-23 13:04:17.578           1       1.0    False                  \n2    2021-05-23 13:05:35.058           1       1.0    False                  \n3    2021-05-23 13:06:52.356           1       1.0    False                  \n4    2021-05-23 13:08:09.593           1       1.0    False                  \n5    2021-05-23 13:09:26.485           1       1.0    False                  \n...                      ...         ...       ...      ...            ...   \n1413 2021-05-23 13:33:40.813           1       2.0    False                  \n1414 2021-05-23 13:34:57.356           1       2.0    False                  \n1415 2021-05-23 13:36:14.043           1       2.0    False                  \n1416 2021-05-23 13:37:30.290           1       2.0    False                  \n1417 2021-05-23 13:38:46.324           1       2.0    False                  \n\n      FastF1Generated  IsAccurate  Year  \n1               False        True  2021  \n2               False        True  2021  \n3               False        True  2021  \n4               False        True  2021  \n5               False        True  2021  \n...               ...         ...   ...  \n1413            False        True  2021  \n1414            False        True  2021  \n1415            False        True  2021  \n1416            False        True  2021  \n1417            False        True  2021  \n\n[1361 rows x 32 columns]",
      "text/html": "<div>\n<style scoped>\n    .dataframe tbody tr th:only-of-type {\n        vertical-align: middle;\n    }\n\n    .dataframe tbody tr th {\n        vertical-align: top;\n    }\n\n    .dataframe thead th {\n        text-align: right;\n    }\n</style>\n<table border=\"1\" class=\"dataframe\">\n  <thead>\n    <tr style=\"text-align: right;\">\n      <th></th>\n      <th>Time</th>\n      <th>Driver</th>\n      <th>DriverNumber</th>\n      <th>LapTime</th>\n      <th>LapNumber</th>\n      <th>Stint</th>\n      <th>PitOutTime</th>\n      <th>PitInTime</th>\n      <th>Sector1Time</th>\n      <th>Sector2Time</th>\n      <th>...</th>\n      <th>Team</th>\n      <th>LapStartTime</th>\n      <th>LapStartDate</th>\n      <th>TrackStatus</th>\n      <th>Position</th>\n      <th>Deleted</th>\n      <th>DeletedReason</th>\n      <th>FastF1Generated</th>\n      <th>IsAccurate</th>\n      <th>Year</th>\n    </tr>\n  </thead>\n  <tbody>\n    <tr>\n      <th>1</th>\n      <td>0 days 00:35:34.295000</td>\n      <td>VER</td>\n      <td>33</td>\n      <td>0 days 00:01:17.480000</td>\n      <td>2.0</td>\n      <td>1.0</td>\n      <td>NaT</td>\n      <td>NaT</td>\n      <td>0 days 00:00:20.615000</td>\n      <td>0 days 00:00:36.346000</td>\n      <td>...</td>\n      <td>Red Bull Racing</td>\n      <td>0 days 00:34:16.815000</td>\n      <td>2021-05-23 13:04:17.578</td>\n      <td>1</td>\n      <td>1.0</td>\n      <td>False</td>\n      <td></td>\n      <td>False</td>\n      <td>True</td>\n      <td>2021</td>\n    </tr>\n    <tr>\n      <th>2</th>\n      <td>0 days 00:36:51.593000</td>\n      <td>VER</td>\n      <td>33</td>\n      <td>0 days 00:01:17.298000</td>\n      <td>3.0</td>\n      <td>1.0</td>\n      <td>NaT</td>\n      <td>NaT</td>\n      <td>0 days 00:00:20.460000</td>\n      <td>0 days 00:00:36.305000</td>\n      <td>...</td>\n      <td>Red Bull Racing</td>\n      <td>0 days 00:35:34.295000</td>\n      <td>2021-05-23 13:05:35.058</td>\n      <td>1</td>\n      <td>1.0</td>\n      <td>False</td>\n      <td></td>\n      <td>False</td>\n      <td>True</td>\n      <td>2021</td>\n    </tr>\n    <tr>\n      <th>3</th>\n      <td>0 days 00:38:08.830000</td>\n      <td>VER</td>\n      <td>33</td>\n      <td>0 days 00:01:17.237000</td>\n      <td>4.0</td>\n      <td>1.0</td>\n      <td>NaT</td>\n      <td>NaT</td>\n      <td>0 days 00:00:20.609000</td>\n      <td>0 days 00:00:36.124000</td>\n      <td>...</td>\n      <td>Red Bull Racing</td>\n      <td>0 days 00:36:51.593000</td>\n      <td>2021-05-23 13:06:52.356</td>\n      <td>1</td>\n      <td>1.0</td>\n      <td>False</td>\n      <td></td>\n      <td>False</td>\n      <td>True</td>\n      <td>2021</td>\n    </tr>\n    <tr>\n      <th>4</th>\n      <td>0 days 00:39:25.722000</td>\n      <td>VER</td>\n      <td>33</td>\n      <td>0 days 00:01:16.892000</td>\n      <td>5.0</td>\n      <td>1.0</td>\n      <td>NaT</td>\n      <td>NaT</td>\n      <td>0 days 00:00:20.444000</td>\n      <td>0 days 00:00:36.046000</td>\n      <td>...</td>\n      <td>Red Bull Racing</td>\n      <td>0 days 00:38:08.830000</td>\n      <td>2021-05-23 13:08:09.593</td>\n      <td>1</td>\n      <td>1.0</td>\n      <td>False</td>\n      <td></td>\n      <td>False</td>\n      <td>True</td>\n      <td>2021</td>\n    </tr>\n    <tr>\n      <th>5</th>\n      <td>0 days 00:40:42.869000</td>\n      <td>VER</td>\n      <td>33</td>\n      <td>0 days 00:01:17.147000</td>\n      <td>6.0</td>\n      <td>1.0</td>\n      <td>NaT</td>\n      <td>NaT</td>\n      <td>0 days 00:00:20.460000</td>\n      <td>0 days 00:00:36.213000</td>\n      <td>...</td>\n      <td>Red Bull Racing</td>\n      <td>0 days 00:39:25.722000</td>\n      <td>2021-05-23 13:09:26.485</td>\n      <td>1</td>\n      <td>1.0</td>\n      <td>False</td>\n      <td></td>\n      <td>False</td>\n      <td>True</td>\n      <td>2021</td>\n    </tr>\n    <tr>\n      <th>...</th>\n      <td>...</td>\n      <td>...</td>\n      <td>...</td>\n      <td>...</td>\n      <td>...</td>\n      <td>...</td>\n      <td>...</td>\n      <td>...</td>\n      <td>...</td>\n      <td>...</td>\n      <td>...</td>\n      <td>...</td>\n      <td>...</td>\n      <td>...</td>\n      <td>...</td>\n      <td>...</td>\n      <td>...</td>\n      <td>...</td>\n      <td>...</td>\n      <td>...</td>\n      <td>...</td>\n    </tr>\n    <tr>\n      <th>1413</th>\n      <td>0 days 01:04:56.593000</td>\n      <td>BOT</td>\n      <td>77</td>\n      <td>0 days 00:01:16.543000</td>\n      <td>25.0</td>\n      <td>1.0</td>\n      <td>NaT</td>\n      <td>NaT</td>\n      <td>0 days 00:00:20.215000</td>\n      <td>0 days 00:00:35.816000</td>\n      <td>...</td>\n      <td>Mercedes</td>\n      <td>0 days 01:03:40.050000</td>\n      <td>2021-05-23 13:33:40.813</td>\n      <td>1</td>\n      <td>2.0</td>\n      <td>False</td>\n      <td></td>\n      <td>False</td>\n      <td>True</td>\n      <td>2021</td>\n    </tr>\n    <tr>\n      <th>1414</th>\n      <td>0 days 01:06:13.280000</td>\n      <td>BOT</td>\n      <td>77</td>\n      <td>0 days 00:01:16.687000</td>\n      <td>26.0</td>\n      <td>1.0</td>\n      <td>NaT</td>\n      <td>NaT</td>\n      <td>0 days 00:00:20.005000</td>\n      <td>0 days 00:00:35.937000</td>\n      <td>...</td>\n      <td>Mercedes</td>\n      <td>0 days 01:04:56.593000</td>\n      <td>2021-05-23 13:34:57.356</td>\n      <td>1</td>\n      <td>2.0</td>\n      <td>False</td>\n      <td></td>\n      <td>False</td>\n      <td>True</td>\n      <td>2021</td>\n    </tr>\n    <tr>\n      <th>1415</th>\n      <td>0 days 01:07:29.527000</td>\n      <td>BOT</td>\n      <td>77</td>\n      <td>0 days 00:01:16.247000</td>\n      <td>27.0</td>\n      <td>1.0</td>\n      <td>NaT</td>\n      <td>NaT</td>\n      <td>0 days 00:00:20.005000</td>\n      <td>0 days 00:00:35.681000</td>\n      <td>...</td>\n      <td>Mercedes</td>\n      <td>0 days 01:06:13.280000</td>\n      <td>2021-05-23 13:36:14.043</td>\n      <td>1</td>\n      <td>2.0</td>\n      <td>False</td>\n      <td></td>\n      <td>False</td>\n      <td>True</td>\n      <td>2021</td>\n    </tr>\n    <tr>\n      <th>1416</th>\n      <td>0 days 01:08:45.561000</td>\n      <td>BOT</td>\n      <td>77</td>\n      <td>0 days 00:01:16.034000</td>\n      <td>28.0</td>\n      <td>1.0</td>\n      <td>NaT</td>\n      <td>NaT</td>\n      <td>0 days 00:00:20.020000</td>\n      <td>0 days 00:00:35.544000</td>\n      <td>...</td>\n      <td>Mercedes</td>\n      <td>0 days 01:07:29.527000</td>\n      <td>2021-05-23 13:37:30.290</td>\n      <td>1</td>\n      <td>2.0</td>\n      <td>False</td>\n      <td></td>\n      <td>False</td>\n      <td>True</td>\n      <td>2021</td>\n    </tr>\n    <tr>\n      <th>1417</th>\n      <td>0 days 01:10:01.826000</td>\n      <td>BOT</td>\n      <td>77</td>\n      <td>0 days 00:01:16.265000</td>\n      <td>29.0</td>\n      <td>1.0</td>\n      <td>NaT</td>\n      <td>NaT</td>\n      <td>0 days 00:00:20.001000</td>\n      <td>0 days 00:00:35.782000</td>\n      <td>...</td>\n      <td>Mercedes</td>\n      <td>0 days 01:08:45.561000</td>\n      <td>2021-05-23 13:38:46.324</td>\n      <td>1</td>\n      <td>2.0</td>\n      <td>False</td>\n      <td></td>\n      <td>False</td>\n      <td>True</td>\n      <td>2021</td>\n    </tr>\n  </tbody>\n</table>\n<p>1361 rows × 32 columns</p>\n</div>"
     },
     "execution_count": 22,
     "metadata": {},
     "output_type": "execute_result"
    }
   ],
   "source": [
    "session = fastf1.get_session(2021, \"Monaco\", 'R')\n",
    "session.load()\n",
    "laps = session.laps\n",
    "laps = laps[laps['IsAccurate'] == True]\n",
    "\n",
    "laps['Year'] = 2021\n",
    "laps"
   ],
   "metadata": {
    "collapsed": false,
    "ExecuteTime": {
     "end_time": "2023-12-19T20:28:22.502414Z",
     "start_time": "2023-12-19T20:28:08.102542Z"
    }
   },
   "id": "7b01e0c7bd74e03f"
  },
  {
   "cell_type": "code",
   "execution_count": 28,
   "outputs": [
    {
     "name": "stderr",
     "output_type": "stream",
     "text": [
      "/var/folders/6x/gk19r4tx5hgb11grk4n8hswm0000gn/T/ipykernel_82788/1109508165.py:1: SettingWithCopyWarning: \n",
      "A value is trying to be set on a copy of a slice from a DataFrame.\n",
      "Try using .loc[row_indexer,col_indexer] = value instead\n",
      "\n",
      "See the caveats in the documentation: https://pandas.pydata.org/pandas-docs/stable/user_guide/indexing.html#returning-a-view-versus-a-copy\n",
      "  laps['Driver'] = laps['Driver'].map(label_encode(laps['Driver']))\n"
     ]
    },
    {
     "data": {
      "text/plain": "                       Time  Driver DriverNumber                LapTime  \\\n1    0 days 00:35:34.295000      14           33 0 days 00:01:17.480000   \n2    0 days 00:36:51.593000      14           33 0 days 00:01:17.298000   \n3    0 days 00:38:08.830000      14           33 0 days 00:01:17.237000   \n4    0 days 00:39:25.722000      14           33 0 days 00:01:16.892000   \n5    0 days 00:40:42.869000      14           33 0 days 00:01:17.147000   \n...                     ...     ...          ...                    ...   \n1413 0 days 01:04:56.593000       5           77 0 days 00:01:16.543000   \n1414 0 days 01:06:13.280000       5           77 0 days 00:01:16.687000   \n1415 0 days 01:07:29.527000       5           77 0 days 00:01:16.247000   \n1416 0 days 01:08:45.561000       5           77 0 days 00:01:16.034000   \n1417 0 days 01:10:01.826000       5           77 0 days 00:01:16.265000   \n\n      LapNumber  Stint PitOutTime PitInTime            Sector1Time  \\\n1           2.0    1.0        NaT       NaT 0 days 00:00:20.615000   \n2           3.0    1.0        NaT       NaT 0 days 00:00:20.460000   \n3           4.0    1.0        NaT       NaT 0 days 00:00:20.609000   \n4           5.0    1.0        NaT       NaT 0 days 00:00:20.444000   \n5           6.0    1.0        NaT       NaT 0 days 00:00:20.460000   \n...         ...    ...        ...       ...                    ...   \n1413       25.0    1.0        NaT       NaT 0 days 00:00:20.215000   \n1414       26.0    1.0        NaT       NaT 0 days 00:00:20.005000   \n1415       27.0    1.0        NaT       NaT 0 days 00:00:20.005000   \n1416       28.0    1.0        NaT       NaT 0 days 00:00:20.020000   \n1417       29.0    1.0        NaT       NaT 0 days 00:00:20.001000   \n\n                Sector2Time  ...             Team           LapStartTime  \\\n1    0 days 00:00:36.346000  ...  Red Bull Racing 0 days 00:34:16.815000   \n2    0 days 00:00:36.305000  ...  Red Bull Racing 0 days 00:35:34.295000   \n3    0 days 00:00:36.124000  ...  Red Bull Racing 0 days 00:36:51.593000   \n4    0 days 00:00:36.046000  ...  Red Bull Racing 0 days 00:38:08.830000   \n5    0 days 00:00:36.213000  ...  Red Bull Racing 0 days 00:39:25.722000   \n...                     ...  ...              ...                    ...   \n1413 0 days 00:00:35.816000  ...         Mercedes 0 days 01:03:40.050000   \n1414 0 days 00:00:35.937000  ...         Mercedes 0 days 01:04:56.593000   \n1415 0 days 00:00:35.681000  ...         Mercedes 0 days 01:06:13.280000   \n1416 0 days 00:00:35.544000  ...         Mercedes 0 days 01:07:29.527000   \n1417 0 days 00:00:35.782000  ...         Mercedes 0 days 01:08:45.561000   \n\n                LapStartDate TrackStatus  Position  Deleted  DeletedReason  \\\n1    2021-05-23 13:04:17.578           1       1.0    False                  \n2    2021-05-23 13:05:35.058           1       1.0    False                  \n3    2021-05-23 13:06:52.356           1       1.0    False                  \n4    2021-05-23 13:08:09.593           1       1.0    False                  \n5    2021-05-23 13:09:26.485           1       1.0    False                  \n...                      ...         ...       ...      ...            ...   \n1413 2021-05-23 13:33:40.813           1       2.0    False                  \n1414 2021-05-23 13:34:57.356           1       2.0    False                  \n1415 2021-05-23 13:36:14.043           1       2.0    False                  \n1416 2021-05-23 13:37:30.290           1       2.0    False                  \n1417 2021-05-23 13:38:46.324           1       2.0    False                  \n\n      FastF1Generated  IsAccurate  Year  \n1               False        True  2021  \n2               False        True  2021  \n3               False        True  2021  \n4               False        True  2021  \n5               False        True  2021  \n...               ...         ...   ...  \n1413            False        True  2021  \n1414            False        True  2021  \n1415            False        True  2021  \n1416            False        True  2021  \n1417            False        True  2021  \n\n[1361 rows x 32 columns]",
      "text/html": "<div>\n<style scoped>\n    .dataframe tbody tr th:only-of-type {\n        vertical-align: middle;\n    }\n\n    .dataframe tbody tr th {\n        vertical-align: top;\n    }\n\n    .dataframe thead th {\n        text-align: right;\n    }\n</style>\n<table border=\"1\" class=\"dataframe\">\n  <thead>\n    <tr style=\"text-align: right;\">\n      <th></th>\n      <th>Time</th>\n      <th>Driver</th>\n      <th>DriverNumber</th>\n      <th>LapTime</th>\n      <th>LapNumber</th>\n      <th>Stint</th>\n      <th>PitOutTime</th>\n      <th>PitInTime</th>\n      <th>Sector1Time</th>\n      <th>Sector2Time</th>\n      <th>...</th>\n      <th>Team</th>\n      <th>LapStartTime</th>\n      <th>LapStartDate</th>\n      <th>TrackStatus</th>\n      <th>Position</th>\n      <th>Deleted</th>\n      <th>DeletedReason</th>\n      <th>FastF1Generated</th>\n      <th>IsAccurate</th>\n      <th>Year</th>\n    </tr>\n  </thead>\n  <tbody>\n    <tr>\n      <th>1</th>\n      <td>0 days 00:35:34.295000</td>\n      <td>14</td>\n      <td>33</td>\n      <td>0 days 00:01:17.480000</td>\n      <td>2.0</td>\n      <td>1.0</td>\n      <td>NaT</td>\n      <td>NaT</td>\n      <td>0 days 00:00:20.615000</td>\n      <td>0 days 00:00:36.346000</td>\n      <td>...</td>\n      <td>Red Bull Racing</td>\n      <td>0 days 00:34:16.815000</td>\n      <td>2021-05-23 13:04:17.578</td>\n      <td>1</td>\n      <td>1.0</td>\n      <td>False</td>\n      <td></td>\n      <td>False</td>\n      <td>True</td>\n      <td>2021</td>\n    </tr>\n    <tr>\n      <th>2</th>\n      <td>0 days 00:36:51.593000</td>\n      <td>14</td>\n      <td>33</td>\n      <td>0 days 00:01:17.298000</td>\n      <td>3.0</td>\n      <td>1.0</td>\n      <td>NaT</td>\n      <td>NaT</td>\n      <td>0 days 00:00:20.460000</td>\n      <td>0 days 00:00:36.305000</td>\n      <td>...</td>\n      <td>Red Bull Racing</td>\n      <td>0 days 00:35:34.295000</td>\n      <td>2021-05-23 13:05:35.058</td>\n      <td>1</td>\n      <td>1.0</td>\n      <td>False</td>\n      <td></td>\n      <td>False</td>\n      <td>True</td>\n      <td>2021</td>\n    </tr>\n    <tr>\n      <th>3</th>\n      <td>0 days 00:38:08.830000</td>\n      <td>14</td>\n      <td>33</td>\n      <td>0 days 00:01:17.237000</td>\n      <td>4.0</td>\n      <td>1.0</td>\n      <td>NaT</td>\n      <td>NaT</td>\n      <td>0 days 00:00:20.609000</td>\n      <td>0 days 00:00:36.124000</td>\n      <td>...</td>\n      <td>Red Bull Racing</td>\n      <td>0 days 00:36:51.593000</td>\n      <td>2021-05-23 13:06:52.356</td>\n      <td>1</td>\n      <td>1.0</td>\n      <td>False</td>\n      <td></td>\n      <td>False</td>\n      <td>True</td>\n      <td>2021</td>\n    </tr>\n    <tr>\n      <th>4</th>\n      <td>0 days 00:39:25.722000</td>\n      <td>14</td>\n      <td>33</td>\n      <td>0 days 00:01:16.892000</td>\n      <td>5.0</td>\n      <td>1.0</td>\n      <td>NaT</td>\n      <td>NaT</td>\n      <td>0 days 00:00:20.444000</td>\n      <td>0 days 00:00:36.046000</td>\n      <td>...</td>\n      <td>Red Bull Racing</td>\n      <td>0 days 00:38:08.830000</td>\n      <td>2021-05-23 13:08:09.593</td>\n      <td>1</td>\n      <td>1.0</td>\n      <td>False</td>\n      <td></td>\n      <td>False</td>\n      <td>True</td>\n      <td>2021</td>\n    </tr>\n    <tr>\n      <th>5</th>\n      <td>0 days 00:40:42.869000</td>\n      <td>14</td>\n      <td>33</td>\n      <td>0 days 00:01:17.147000</td>\n      <td>6.0</td>\n      <td>1.0</td>\n      <td>NaT</td>\n      <td>NaT</td>\n      <td>0 days 00:00:20.460000</td>\n      <td>0 days 00:00:36.213000</td>\n      <td>...</td>\n      <td>Red Bull Racing</td>\n      <td>0 days 00:39:25.722000</td>\n      <td>2021-05-23 13:09:26.485</td>\n      <td>1</td>\n      <td>1.0</td>\n      <td>False</td>\n      <td></td>\n      <td>False</td>\n      <td>True</td>\n      <td>2021</td>\n    </tr>\n    <tr>\n      <th>...</th>\n      <td>...</td>\n      <td>...</td>\n      <td>...</td>\n      <td>...</td>\n      <td>...</td>\n      <td>...</td>\n      <td>...</td>\n      <td>...</td>\n      <td>...</td>\n      <td>...</td>\n      <td>...</td>\n      <td>...</td>\n      <td>...</td>\n      <td>...</td>\n      <td>...</td>\n      <td>...</td>\n      <td>...</td>\n      <td>...</td>\n      <td>...</td>\n      <td>...</td>\n      <td>...</td>\n    </tr>\n    <tr>\n      <th>1413</th>\n      <td>0 days 01:04:56.593000</td>\n      <td>5</td>\n      <td>77</td>\n      <td>0 days 00:01:16.543000</td>\n      <td>25.0</td>\n      <td>1.0</td>\n      <td>NaT</td>\n      <td>NaT</td>\n      <td>0 days 00:00:20.215000</td>\n      <td>0 days 00:00:35.816000</td>\n      <td>...</td>\n      <td>Mercedes</td>\n      <td>0 days 01:03:40.050000</td>\n      <td>2021-05-23 13:33:40.813</td>\n      <td>1</td>\n      <td>2.0</td>\n      <td>False</td>\n      <td></td>\n      <td>False</td>\n      <td>True</td>\n      <td>2021</td>\n    </tr>\n    <tr>\n      <th>1414</th>\n      <td>0 days 01:06:13.280000</td>\n      <td>5</td>\n      <td>77</td>\n      <td>0 days 00:01:16.687000</td>\n      <td>26.0</td>\n      <td>1.0</td>\n      <td>NaT</td>\n      <td>NaT</td>\n      <td>0 days 00:00:20.005000</td>\n      <td>0 days 00:00:35.937000</td>\n      <td>...</td>\n      <td>Mercedes</td>\n      <td>0 days 01:04:56.593000</td>\n      <td>2021-05-23 13:34:57.356</td>\n      <td>1</td>\n      <td>2.0</td>\n      <td>False</td>\n      <td></td>\n      <td>False</td>\n      <td>True</td>\n      <td>2021</td>\n    </tr>\n    <tr>\n      <th>1415</th>\n      <td>0 days 01:07:29.527000</td>\n      <td>5</td>\n      <td>77</td>\n      <td>0 days 00:01:16.247000</td>\n      <td>27.0</td>\n      <td>1.0</td>\n      <td>NaT</td>\n      <td>NaT</td>\n      <td>0 days 00:00:20.005000</td>\n      <td>0 days 00:00:35.681000</td>\n      <td>...</td>\n      <td>Mercedes</td>\n      <td>0 days 01:06:13.280000</td>\n      <td>2021-05-23 13:36:14.043</td>\n      <td>1</td>\n      <td>2.0</td>\n      <td>False</td>\n      <td></td>\n      <td>False</td>\n      <td>True</td>\n      <td>2021</td>\n    </tr>\n    <tr>\n      <th>1416</th>\n      <td>0 days 01:08:45.561000</td>\n      <td>5</td>\n      <td>77</td>\n      <td>0 days 00:01:16.034000</td>\n      <td>28.0</td>\n      <td>1.0</td>\n      <td>NaT</td>\n      <td>NaT</td>\n      <td>0 days 00:00:20.020000</td>\n      <td>0 days 00:00:35.544000</td>\n      <td>...</td>\n      <td>Mercedes</td>\n      <td>0 days 01:07:29.527000</td>\n      <td>2021-05-23 13:37:30.290</td>\n      <td>1</td>\n      <td>2.0</td>\n      <td>False</td>\n      <td></td>\n      <td>False</td>\n      <td>True</td>\n      <td>2021</td>\n    </tr>\n    <tr>\n      <th>1417</th>\n      <td>0 days 01:10:01.826000</td>\n      <td>5</td>\n      <td>77</td>\n      <td>0 days 00:01:16.265000</td>\n      <td>29.0</td>\n      <td>1.0</td>\n      <td>NaT</td>\n      <td>NaT</td>\n      <td>0 days 00:00:20.001000</td>\n      <td>0 days 00:00:35.782000</td>\n      <td>...</td>\n      <td>Mercedes</td>\n      <td>0 days 01:08:45.561000</td>\n      <td>2021-05-23 13:38:46.324</td>\n      <td>1</td>\n      <td>2.0</td>\n      <td>False</td>\n      <td></td>\n      <td>False</td>\n      <td>True</td>\n      <td>2021</td>\n    </tr>\n  </tbody>\n</table>\n<p>1361 rows × 32 columns</p>\n</div>"
     },
     "execution_count": 28,
     "metadata": {},
     "output_type": "execute_result"
    }
   ],
   "source": [
    "laps['Driver'] = laps['Driver'].map(label_encode(laps['Driver']))\n",
    "laps"
   ],
   "metadata": {
    "collapsed": false,
    "ExecuteTime": {
     "end_time": "2023-12-19T20:35:19.149654Z",
     "start_time": "2023-12-19T20:35:19.027703Z"
    }
   },
   "id": "f786890c792d55ec"
  },
  {
   "cell_type": "code",
   "execution_count": null,
   "outputs": [],
   "source": [],
   "metadata": {
    "collapsed": false
   },
   "id": "39b537ba1a70c645"
  },
  {
   "cell_type": "code",
   "execution_count": 31,
   "outputs": [
    {
     "name": "stderr",
     "output_type": "stream",
     "text": [
      "/var/folders/6x/gk19r4tx5hgb11grk4n8hswm0000gn/T/ipykernel_82788/1505217417.py:2: SettingWithCopyWarning: \n",
      "A value is trying to be set on a copy of a slice from a DataFrame.\n",
      "Try using .loc[row_indexer,col_indexer] = value instead\n",
      "\n",
      "See the caveats in the documentation: https://pandas.pydata.org/pandas-docs/stable/user_guide/indexing.html#returning-a-view-versus-a-copy\n",
      "  laps['Temp'] = weather['AirTemp'].mean()\n",
      "/var/folders/6x/gk19r4tx5hgb11grk4n8hswm0000gn/T/ipykernel_82788/1505217417.py:3: SettingWithCopyWarning: \n",
      "A value is trying to be set on a copy of a slice from a DataFrame.\n",
      "Try using .loc[row_indexer,col_indexer] = value instead\n",
      "\n",
      "See the caveats in the documentation: https://pandas.pydata.org/pandas-docs/stable/user_guide/indexing.html#returning-a-view-versus-a-copy\n",
      "  laps['Humidity'] = weather['Humidity'].mean()\n",
      "/var/folders/6x/gk19r4tx5hgb11grk4n8hswm0000gn/T/ipykernel_82788/1505217417.py:4: SettingWithCopyWarning: \n",
      "A value is trying to be set on a copy of a slice from a DataFrame.\n",
      "Try using .loc[row_indexer,col_indexer] = value instead\n",
      "\n",
      "See the caveats in the documentation: https://pandas.pydata.org/pandas-docs/stable/user_guide/indexing.html#returning-a-view-versus-a-copy\n",
      "  laps['Pressure'] = weather['Pressure'].mean()\n",
      "/var/folders/6x/gk19r4tx5hgb11grk4n8hswm0000gn/T/ipykernel_82788/1505217417.py:5: SettingWithCopyWarning: \n",
      "A value is trying to be set on a copy of a slice from a DataFrame.\n",
      "Try using .loc[row_indexer,col_indexer] = value instead\n",
      "\n",
      "See the caveats in the documentation: https://pandas.pydata.org/pandas-docs/stable/user_guide/indexing.html#returning-a-view-versus-a-copy\n",
      "  laps['WindSpeed'] = weather['WindSpeed'].mean()\n",
      "/var/folders/6x/gk19r4tx5hgb11grk4n8hswm0000gn/T/ipykernel_82788/1505217417.py:6: SettingWithCopyWarning: \n",
      "A value is trying to be set on a copy of a slice from a DataFrame.\n",
      "Try using .loc[row_indexer,col_indexer] = value instead\n",
      "\n",
      "See the caveats in the documentation: https://pandas.pydata.org/pandas-docs/stable/user_guide/indexing.html#returning-a-view-versus-a-copy\n",
      "  laps['TrackTemp'] = weather['TrackTemp'].mean()\n",
      "/var/folders/6x/gk19r4tx5hgb11grk4n8hswm0000gn/T/ipykernel_82788/1505217417.py:9: SettingWithCopyWarning: \n",
      "A value is trying to be set on a copy of a slice from a DataFrame.\n",
      "Try using .loc[row_indexer,col_indexer] = value instead\n",
      "\n",
      "See the caveats in the documentation: https://pandas.pydata.org/pandas-docs/stable/user_guide/indexing.html#returning-a-view-versus-a-copy\n",
      "  laps['Driver'] = laps['DriverNumber']\n",
      "/var/folders/6x/gk19r4tx5hgb11grk4n8hswm0000gn/T/ipykernel_82788/1505217417.py:10: SettingWithCopyWarning: \n",
      "A value is trying to be set on a copy of a slice from a DataFrame.\n",
      "Try using .loc[row_indexer,col_indexer] = value instead\n",
      "\n",
      "See the caveats in the documentation: https://pandas.pydata.org/pandas-docs/stable/user_guide/indexing.html#returning-a-view-versus-a-copy\n",
      "  laps['Team'] = laps['Team'].map(label_encode(laps['Team']))\n",
      "/var/folders/6x/gk19r4tx5hgb11grk4n8hswm0000gn/T/ipykernel_82788/1505217417.py:11: SettingWithCopyWarning: \n",
      "A value is trying to be set on a copy of a slice from a DataFrame.\n",
      "Try using .loc[row_indexer,col_indexer] = value instead\n",
      "\n",
      "See the caveats in the documentation: https://pandas.pydata.org/pandas-docs/stable/user_guide/indexing.html#returning-a-view-versus-a-copy\n",
      "  laps['Compound'] = laps['Compound'].map(label_encode(laps['Compound']))\n"
     ]
    }
   ],
   "source": [
    "weather = session.weather_data\n",
    "laps['Temp'] = weather['AirTemp'].mean()\n",
    "laps['Humidity'] = weather['Humidity'].mean()\n",
    "laps['Pressure'] = weather['Pressure'].mean()\n",
    "laps['WindSpeed'] = weather['WindSpeed'].mean()\n",
    "laps['TrackTemp'] = weather['TrackTemp'].mean()\n",
    "\n",
    "# Encode the driver names\n",
    "laps['Driver'] = laps['DriverNumber']\n",
    "laps['Team'] = laps['Team'].map(label_encode(laps['Team']))\n",
    "laps['Compound'] = laps['Compound'].map(label_encode(laps['Compound']))"
   ],
   "metadata": {
    "collapsed": false,
    "ExecuteTime": {
     "end_time": "2023-12-19T20:38:25.951744Z",
     "start_time": "2023-12-19T20:38:25.848050Z"
    }
   },
   "id": "87247eda3fca495"
  },
  {
   "cell_type": "code",
   "execution_count": 33,
   "outputs": [
    {
     "data": {
      "text/plain": "Index(['Time', 'Driver', 'DriverNumber', 'LapTime', 'LapNumber', 'Stint',\n       'PitOutTime', 'PitInTime', 'Sector1Time', 'Sector2Time', 'Sector3Time',\n       'Sector1SessionTime', 'Sector2SessionTime', 'Sector3SessionTime',\n       'SpeedI1', 'SpeedI2', 'SpeedFL', 'SpeedST', 'IsPersonalBest',\n       'Compound', 'TyreLife', 'FreshTyre', 'Team', 'LapStartTime',\n       'LapStartDate', 'TrackStatus', 'Position', 'Deleted', 'DeletedReason',\n       'FastF1Generated', 'IsAccurate', 'Year', 'Temp', 'Humidity', 'Pressure',\n       'WindSpeed', 'TrackTemp'],\n      dtype='object')"
     },
     "execution_count": 33,
     "metadata": {},
     "output_type": "execute_result"
    }
   ],
   "source": [
    "laps.columns"
   ],
   "metadata": {
    "collapsed": false,
    "ExecuteTime": {
     "end_time": "2023-12-19T20:39:23.418421Z",
     "start_time": "2023-12-19T20:39:23.380045Z"
    }
   },
   "id": "8eafac1b9f509f0b"
  },
  {
   "cell_type": "code",
   "execution_count": 35,
   "outputs": [
    {
     "name": "stderr",
     "output_type": "stream",
     "text": [
      "/var/folders/6x/gk19r4tx5hgb11grk4n8hswm0000gn/T/ipykernel_82788/2654303329.py:1: SettingWithCopyWarning: \n",
      "A value is trying to be set on a copy of a slice from a DataFrame.\n",
      "Try using .loc[row_indexer,col_indexer] = value instead\n",
      "\n",
      "See the caveats in the documentation: https://pandas.pydata.org/pandas-docs/stable/user_guide/indexing.html#returning-a-view-versus-a-copy\n",
      "  laps['LapTime'] = laps['LapTime'].dt.microseconds\n"
     ]
    }
   ],
   "source": [
    "laps['LapTime'] = laps['LapTime'].dt.microseconds\n"
   ],
   "metadata": {
    "collapsed": false,
    "ExecuteTime": {
     "end_time": "2023-12-19T20:43:48.780501Z",
     "start_time": "2023-12-19T20:43:48.755410Z"
    }
   },
   "id": "f2345ea32d1086d3"
  },
  {
   "cell_type": "code",
   "execution_count": 38,
   "outputs": [
    {
     "data": {
      "text/plain": "Index(['Time', 'Driver', 'DriverNumber', 'LapTime', 'LapNumber', 'Stint',\n       'PitOutTime', 'PitInTime', 'Sector1Time', 'Sector2Time', 'Sector3Time',\n       'Sector1SessionTime', 'Sector2SessionTime', 'Sector3SessionTime',\n       'SpeedI1', 'SpeedI2', 'SpeedFL', 'SpeedST', 'IsPersonalBest',\n       'Compound', 'TyreLife', 'FreshTyre', 'Team', 'LapStartTime',\n       'LapStartDate', 'TrackStatus', 'Position', 'Deleted', 'DeletedReason',\n       'FastF1Generated', 'IsAccurate', 'Year', 'Temp', 'Humidity', 'Pressure',\n       'WindSpeed', 'TrackTemp'],\n      dtype='object')"
     },
     "execution_count": 38,
     "metadata": {},
     "output_type": "execute_result"
    }
   ],
   "source": [
    "laps.columns"
   ],
   "metadata": {
    "collapsed": false,
    "ExecuteTime": {
     "end_time": "2023-12-20T05:17:20.727993Z",
     "start_time": "2023-12-20T05:17:20.527312Z"
    }
   },
   "id": "3fcedbde6a620c70"
  },
  {
   "cell_type": "code",
   "execution_count": 37,
   "outputs": [
    {
     "name": "stderr",
     "output_type": "stream",
     "text": [
      "logger      WARNING \tFailed to load schedule from FastF1 backend!\n",
      "req            INFO \tNo cached data found for season_schedule. Loading data...\n",
      "_api           INFO \tFetching season schedule...\n",
      "logger      WARNING \tFailed to load schedule from F1 API backend!\n",
      "logger      WARNING \tFailed to load schedule from Ergast API backend!\n"
     ]
    },
    {
     "ename": "ValueError",
     "evalue": "Failed to load any schedule data.",
     "output_type": "error",
     "traceback": [
      "\u001B[0;31m---------------------------------------------------------------------------\u001B[0m",
      "\u001B[0;31mValueError\u001B[0m                                Traceback (most recent call last)",
      "Cell \u001B[0;32mIn[37], line 64\u001B[0m\n\u001B[1;32m     60\u001B[0m index \u001B[38;5;241m=\u001B[39m \u001B[38;5;241m0\u001B[39m\n\u001B[1;32m     62\u001B[0m \u001B[38;5;28;01mfor\u001B[39;00m year \u001B[38;5;129;01min\u001B[39;00m years:\n\u001B[0;32m---> 64\u001B[0m     events \u001B[38;5;241m=\u001B[39m \u001B[43mgetSessionsPerYear\u001B[49m\u001B[43m(\u001B[49m\u001B[43myear\u001B[49m\u001B[43m)\u001B[49m\n\u001B[1;32m     66\u001B[0m     \u001B[38;5;28;01mfor\u001B[39;00m k \u001B[38;5;129;01min\u001B[39;00m \u001B[38;5;28mrange\u001B[39m(\u001B[38;5;28mlen\u001B[39m(events)):\n\u001B[1;32m     68\u001B[0m         session \u001B[38;5;241m=\u001B[39m fastf1\u001B[38;5;241m.\u001B[39mget_session(year, events[k], \u001B[38;5;124m'\u001B[39m\u001B[38;5;124mR\u001B[39m\u001B[38;5;124m'\u001B[39m)\n",
      "Cell \u001B[0;32mIn[37], line 44\u001B[0m, in \u001B[0;36mgetSessionsPerYear\u001B[0;34m(year)\u001B[0m\n\u001B[1;32m     43\u001B[0m \u001B[38;5;28;01mdef\u001B[39;00m \u001B[38;5;21mgetSessionsPerYear\u001B[39m(year):\n\u001B[0;32m---> 44\u001B[0m     s \u001B[38;5;241m=\u001B[39m \u001B[43mfastf1\u001B[49m\u001B[38;5;241;43m.\u001B[39;49m\u001B[43mget_event_schedule\u001B[49m\u001B[43m(\u001B[49m\u001B[43myear\u001B[49m\u001B[43m)\u001B[49m\n\u001B[1;32m     45\u001B[0m     locations \u001B[38;5;241m=\u001B[39m s[\u001B[38;5;124m\"\u001B[39m\u001B[38;5;124mLocation\u001B[39m\u001B[38;5;124m\"\u001B[39m]\u001B[38;5;241m.\u001B[39mto_list()\n\u001B[1;32m     46\u001B[0m     \u001B[38;5;28;01mreturn\u001B[39;00m locations\n",
      "File \u001B[0;32m~/anaconda3/lib/python3.8/site-packages/fastf1/events.py:479\u001B[0m, in \u001B[0;36mget_event_schedule\u001B[0;34m(year, include_testing, backend, force_ergast)\u001B[0m\n\u001B[1;32m    476\u001B[0m         \u001B[38;5;28;01mbreak\u001B[39;00m\n\u001B[1;32m    478\u001B[0m \u001B[38;5;28;01mif\u001B[39;00m schedule \u001B[38;5;129;01mis\u001B[39;00m \u001B[38;5;28;01mNone\u001B[39;00m:  \u001B[38;5;66;03m# raise Error if fallback failed as well\u001B[39;00m\n\u001B[0;32m--> 479\u001B[0m     \u001B[38;5;28;01mraise\u001B[39;00m \u001B[38;5;167;01mValueError\u001B[39;00m(\u001B[38;5;124m\"\u001B[39m\u001B[38;5;124mFailed to load any schedule data.\u001B[39m\u001B[38;5;124m\"\u001B[39m)\n\u001B[1;32m    481\u001B[0m \u001B[38;5;28;01mif\u001B[39;00m \u001B[38;5;129;01mnot\u001B[39;00m include_testing:\n\u001B[1;32m    482\u001B[0m     schedule \u001B[38;5;241m=\u001B[39m schedule[\u001B[38;5;241m~\u001B[39mschedule\u001B[38;5;241m.\u001B[39mis_testing()]\n",
      "\u001B[0;31mValueError\u001B[0m: Failed to load any schedule data."
     ]
    }
   ],
   "source": [
    "import numpy as np\n",
    "import pandas as pd\n",
    "import fastf1\n",
    "\n",
    "\n",
    "def timeToMs(time):\n",
    "    return 0.0 + time.seconds + time.microseconds / 1000000\n",
    "\n",
    "\n",
    "def CompoundToNumber(tyre):\n",
    "    if (tyre == \"SOFT\"):\n",
    "        return 1\n",
    "    elif (tyre == \"MEDIUM\"):\n",
    "        return 2\n",
    "    elif (tyre == \"HARD\"):\n",
    "        return 3\n",
    "    elif (tyre == \"INTERMEDIATE\"):\n",
    "        return 4\n",
    "    elif (tyre == \"WET\"):\n",
    "        return 5\n",
    "    else:\n",
    "        return 6\n",
    "\n",
    "\n",
    "def toNumber(tf):\n",
    "    if (tf == \"True\"):\n",
    "        return 1\n",
    "    else:\n",
    "        return 0\n",
    "\n",
    "\n",
    "teamList = []\n",
    "\n",
    "\n",
    "def teamToNumber(tf):\n",
    "    if tf in teamList:\n",
    "        return teamList.index(tf)\n",
    "    else:\n",
    "        teamList.append(tf)\n",
    "        return teamList.index(tf)\n",
    "\n",
    "\n",
    "def getSessionsPerYear(year):\n",
    "    s = fastf1.get_event_schedule(year)\n",
    "    locations = s[\"Location\"].to_list()\n",
    "    return locations\n",
    "\n",
    "\n",
    "Baseline = [\"Event\", \"LapTime\", \"NextLapTime\", \"LapNumber\"]\n",
    "Identity = [\"DriverNumber\", \"Team\"]\n",
    "Tyre = [\"Compound\", \"TyreLife\", \"FreshTyre\"]\n",
    "SectorTimes = [\"S1Time\", \"S2Time\", \"S3Time\"]\n",
    "SessionTimes = [\"S1STime\", \"S2STime\", \"S2STime\"]\n",
    "RecordTimes = [\"SpeedI2\", \"SpeedFL\", \"SpeedST\"]\n",
    "LapStatus = [\"IsPersonalBest\", \"Position\", \"Deleted\", \"TrackStatus\"]\n",
    "cols = Baseline + Identity + Tyre + SectorTimes + SessionTimes + RecordTimes + LapStatus\n",
    "raceData = pd.DataFrame(columns=cols)\n",
    "\n",
    "years = [2019]\n",
    "index = 0\n",
    "\n",
    "for year in years:\n",
    "\n",
    "    events = getSessionsPerYear(year)\n",
    "\n",
    "    for k in range(len(events)):\n",
    "\n",
    "        session = fastf1.get_session(year, events[k], 'R')\n",
    "        session.load()\n",
    "        laps = session.laps\n",
    "        laps['Year'] = year\n",
    "        weather = session.weather_data\n",
    "\n",
    "        laps['Temp'] = weather['AirTemp'].mean()\n",
    "        laps['Humidity'] = weather['Humidity'].mean()\n",
    "        laps['Pressure'] = weather['Pressure'].mean()\n",
    "        laps['WindSpeed'] = weather['WindSpeed'].mean()\n",
    "        laps['TrackTemp'] = weather['TrackTemp'].mean()\n",
    "\n",
    "        for i in range(len(laps) - 1):\n",
    "            if (laps.loc[i + 1, \"DriverNumber\"] == laps.loc[i, \"DriverNumber\"]):\n",
    "                # baseline\n",
    "                LapTime = timeToMs(laps.loc[i, \"LapTime\"])\n",
    "                NextLapTime = timeToMs(laps.loc[i + 1, \"LapTime\"])\n",
    "                LapNumber = laps.loc[i, \"LapNumber\"]\n",
    "                Event = k + j * 100\n",
    "\n",
    "                # Identity\n",
    "                DriverNumber = laps.loc[i, \"DriverNumber\"]\n",
    "                Team = teamToNumber(laps.loc[i, \"Team\"])\n",
    "\n",
    "                # Tyre\n",
    "                Compound = CompoundToNumber(laps.loc[i, \"Compound\"])\n",
    "                TyreLife = laps.loc[i, \"TyreLife\"]\n",
    "                FreshTyre = toNumber(laps.loc[i, \"FreshTyre\"])\n",
    "\n",
    "                # Sector Times\n",
    "                S1Time = timeToMs(laps.loc[i, \"Sector1Time\"])\n",
    "                S2Time = timeToMs(laps.loc[i, \"Sector2Time\"])\n",
    "                S3Time = timeToMs(laps.loc[i, \"Sector3Time\"])\n",
    "\n",
    "                # session Times\n",
    "                S1STime = timeToMs(laps.loc[i, \"Sector1SessionTime\"])\n",
    "                S2STime = timeToMs(laps.loc[i, \"Sector2SessionTime\"])\n",
    "                S3STime = timeToMs(laps.loc[i, \"Sector3SessionTime\"])\n",
    "\n",
    "                # record times\n",
    "                SpeedI2 = laps.loc[i, \"SpeedI2\"]\n",
    "                SpeedFL = laps.loc[i, \"SpeedFL\"]\n",
    "                SpeedST = laps.loc[i, \"SpeedST\"]\n",
    "\n",
    "                # Lap Status\n",
    "                IsPersonalBest = toNumber(laps.loc[i, \"IsPersonalBest\"])\n",
    "                Position = laps.loc[i, \"Position\"]\n",
    "                Deleted = toNumber(laps.loc[i, \"Deleted\"])\n",
    "                TrackStatus = laps.loc[i, \"TrackStatus\"]\n",
    "\n",
    "                # Weather Data\n",
    "                Temp = laps.loc[i, \"Temp\"]\n",
    "                Humidity = laps.loc[i, \"Humidity\"]\n",
    "                Pressure = laps.loc[i, \"Pressure\"]\n",
    "                WindSpeed = laps.loc[i, \"WindSpeed\"]\n",
    "                TrackTemp = laps.loc[i, \"TrackTemp\"]\n",
    "\n",
    "                YearVal = laps.loc[i, \"Year\"]\n",
    "\n",
    "                raceData.loc[index] = (\n",
    "                {\"Year\": YearVal,  \"Event\": Event, \"LapTime\": LapTime, \"NextLapTime\": NextLapTime, \"LapNumber\": LapNumber,\n",
    "                 \"DriverNumber\": DriverNumber, \"Team\": Team, \"Compound\": Compound,\n",
    "                 \"TyreLife\": TyreLife, \"FreshTyre\": FreshTyre, \"S1Time\": S1Time, \"S2Time\": S2Time, \"S3Time\": S3Time,\n",
    "                 \"S1STime\": S1STime,\n",
    "                 \"S2STime\": S2STime, \"S3STime\": S3STime, \"SpeedI2\": SpeedI2, \"S2Time\": S2Time, \"SpeedFL\": SpeedFL,\n",
    "                 \"SpeedST\": SpeedST,\n",
    "                 \"IsPersonalBest\": IsPersonalBest, \"Position\": Position, \"Deleted\": Deleted,\n",
    "                 \"TrackStatus\": TrackStatus, \"Temp\": Temp, \"Humidity\": Humidity, \"Pressure\": Pressure, \"WindSpeed\": WindSpeed, \"TrackTemp\": TrackTemp})\n",
    "                index = index + 1\n",
    "\n"
   ],
   "metadata": {
    "collapsed": false,
    "ExecuteTime": {
     "end_time": "2023-12-20T05:16:20.387806Z",
     "start_time": "2023-12-20T05:16:14.943239Z"
    }
   },
   "id": "560cfa94424f3b5c"
  },
  {
   "cell_type": "code",
   "execution_count": null,
   "outputs": [],
   "source": [
    "raceData"
   ],
   "metadata": {
    "collapsed": false,
    "ExecuteTime": {
     "end_time": "2023-12-20T05:16:20.507937Z",
     "start_time": "2023-12-20T05:16:20.442932Z"
    }
   },
   "id": "fca7ac96df8fff9a"
  },
  {
   "cell_type": "code",
   "execution_count": null,
   "outputs": [],
   "source": [],
   "metadata": {
    "collapsed": false
   },
   "id": "a6619799790254d6"
  }
 ],
 "metadata": {
  "kernelspec": {
   "display_name": "Python 3",
   "language": "python",
   "name": "python3"
  },
  "language_info": {
   "codemirror_mode": {
    "name": "ipython",
    "version": 2
   },
   "file_extension": ".py",
   "mimetype": "text/x-python",
   "name": "python",
   "nbconvert_exporter": "python",
   "pygments_lexer": "ipython2",
   "version": "2.7.6"
  }
 },
 "nbformat": 4,
 "nbformat_minor": 5
}
